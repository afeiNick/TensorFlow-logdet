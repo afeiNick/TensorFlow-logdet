{
 "cells": [
  {
   "cell_type": "code",
   "execution_count": 1,
   "metadata": {
    "collapsed": false
   },
   "outputs": [],
   "source": [
    "import tensorflow as tf\n",
    "myLogdet_mod = tf.load_op_library('./myLogdet_op.so')"
   ]
  },
  {
   "cell_type": "code",
   "execution_count": null,
   "metadata": {
    "collapsed": false
   },
   "outputs": [],
   "source": [
    "from tensorflow.python.framework import ops\n",
    "\n",
    "\n",
    "@ops.RegisterGradient(\"MyLogdet\")\n",
    "def _my_logdet_grad(op, grad1, grad2):\n",
    "    return [tf.multiply(grad1, op.outputs[1])]"
   ]
  },
  {
   "cell_type": "code",
   "execution_count": 7,
   "metadata": {
    "collapsed": false
   },
   "outputs": [],
   "source": [
    "import numpy as np\n",
    "#import time\n",
    "np.random.seed(0)\n",
    "numMat = 777\n",
    "dim = 100\n",
    "b = np.zeros(shape=(numMat, dim, dim))\n",
    "for idx in range(numMat):\n",
    "    a = np.random.randn(dim,dim)\n",
    "    b[idx] = 0.01 * a.dot(a.T) + np.eye(dim)\n",
    "b = np.array(b, dtype='float32')\n",
    "A = tf.constant(b)"
   ]
  },
  {
   "cell_type": "code",
   "execution_count": 8,
   "metadata": {
    "collapsed": false
   },
   "outputs": [],
   "source": [
    "with tf.device('/gpu:0'):\n",
    "    L_gpu = myLogdet_mod.my_logdet(A)\n",
    "    \n",
    "sess = tf.Session()"
   ]
  },
  {
   "cell_type": "code",
   "execution_count": 14,
   "metadata": {
    "collapsed": false,
    "scrolled": false
   },
   "outputs": [
    {
     "name": "stdout",
     "output_type": "stream",
     "text": [
      "CPU times: user 39.4 ms, sys: 11 ms, total: 50.3 ms\n",
      "Wall time: 46.6 ms\n"
     ]
    }
   ],
   "source": [
    "%%time\n",
    "Ag_gpu = sess.run(L_gpu)"
   ]
  },
  {
   "cell_type": "code",
   "execution_count": null,
   "metadata": {
    "collapsed": false
   },
   "outputs": [],
   "source": [
    "print Ag_gpu[0]\n",
    "print np.log(np.linalg.det(b))\n",
    "\n",
    "print np.max(np.abs(Ag_gpu[0] - np.log(np.linalg.det(b))))\n",
    "print np.max(np.abs(Ag_gpu[1] - np.linalg.inv(b)))"
   ]
  },
  {
   "cell_type": "code",
   "execution_count": null,
   "metadata": {
    "collapsed": false
   },
   "outputs": [],
   "source": []
  },
  {
   "cell_type": "code",
   "execution_count": null,
   "metadata": {
    "collapsed": true
   },
   "outputs": [],
   "source": [
    "with tf.device('/cpu:0'):\n",
    "    L_cpu = tf.log(tf.matrix_diag_part(tf.cholesky(A)))\n",
    "    Lc_loss = 2 * tf.reduce_sum(L_cpu)\n",
    "    Ac_grad = tf.gradients(Lc_loss, [A])[0]\n",
    "    \n",
    "sess = tf.Session()"
   ]
  },
  {
   "cell_type": "code",
   "execution_count": null,
   "metadata": {
    "collapsed": false
   },
   "outputs": [],
   "source": [
    "%%time\n",
    "Ag_cpu = sess.run(Ac_grad)"
   ]
  },
  {
   "cell_type": "code",
   "execution_count": null,
   "metadata": {
    "collapsed": false
   },
   "outputs": [],
   "source": [
    "np.max(np.abs(Ag_gpu - Ag_cpu))"
   ]
  },
  {
   "cell_type": "code",
   "execution_count": null,
   "metadata": {
    "collapsed": false
   },
   "outputs": [],
   "source": [
    "Ag_gpu - Ag_cpu"
   ]
  },
  {
   "cell_type": "code",
   "execution_count": null,
   "metadata": {
    "collapsed": true
   },
   "outputs": [],
   "source": []
  }
 ],
 "metadata": {
  "anaconda-cloud": {},
  "kernelspec": {
   "display_name": "Python [conda env:tf_gpu]",
   "language": "python",
   "name": "conda-env-tf_gpu-py"
  },
  "language_info": {
   "codemirror_mode": {
    "name": "ipython",
    "version": 2
   },
   "file_extension": ".py",
   "mimetype": "text/x-python",
   "name": "python",
   "nbconvert_exporter": "python",
   "pygments_lexer": "ipython2",
   "version": "2.7.13"
  }
 },
 "nbformat": 4,
 "nbformat_minor": 1
}
